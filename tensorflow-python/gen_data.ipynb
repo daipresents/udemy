{
 "cells": [
  {
   "cell_type": "code",
   "execution_count": 16,
   "metadata": {},
   "outputs": [],
   "source": [
    "from PIL import Image\n",
    "import os, glob\n",
    "import numpy as np\n",
    "from sklearn import model_selection\n",
    "\n",
    "classes = [\"monkey\", \"boar\", \"crow\"]\n",
    "num_classes = len(classes)\n",
    "image_size = 50\n",
    "\n",
    "X = []\n",
    "Y = []\n",
    "\n",
    "for index, class_label in enumerate(classes):\n",
    "  photos_dir = \"./\" + class_label\n",
    "  files = glob.glob(photos_dir + \"/*.jpg\")\n",
    "  for i, file in enumerate(files):\n",
    "    if i >= 200: break\n",
    "    image = Image.open(file)\n",
    "    image = image.convert(\"RGB\")\n",
    "    image = image.resize((image_size, image_size))\n",
    "    data = np.asarray(image)\n",
    "    X.append(data)\n",
    "    Y.append(index)\n",
    "\n",
    "X = np.array(X)\n",
    "Y = np.array(Y)\n",
    "\n",
    "X_train, X_test, Y_train, Y_test = model_selection.train_test_split(X, Y)\n",
    "xy = (X_train, X_test, Y_train, Y_test)\n",
    "np.save(\"./animal.npy\", xy)\n"
   ]
  },
  {
   "cell_type": "code",
   "execution_count": 17,
   "metadata": {},
   "outputs": [
    {
     "data": {
      "text/plain": [
       "array([[[115, 134, 138],\n",
       "        [124, 118, 107],\n",
       "        [135, 135, 135],\n",
       "        ...,\n",
       "        [150, 147, 139],\n",
       "        [166, 178, 186],\n",
       "        [179, 196, 214]],\n",
       "\n",
       "       [[107, 122, 119],\n",
       "        [113, 117, 116],\n",
       "        [ 86,  94,  75],\n",
       "        ...,\n",
       "        [121, 114,  84],\n",
       "        [132, 134, 123],\n",
       "        [158, 164, 166]],\n",
       "\n",
       "       [[ 54,  66,  52],\n",
       "        [ 95, 111, 109],\n",
       "        [111, 124, 124],\n",
       "        ...,\n",
       "        [112,  99,  57],\n",
       "        [117, 110,  71],\n",
       "        [125, 119,  91]],\n",
       "\n",
       "       ...,\n",
       "\n",
       "       [[113, 130, 130],\n",
       "        [106, 138, 137],\n",
       "        [148, 169, 170],\n",
       "        ...,\n",
       "        [ 73,  94,  89],\n",
       "        [ 75,  95,  91],\n",
       "        [ 75,  96,  93]],\n",
       "\n",
       "       [[ 37,  40,  41],\n",
       "        [ 71,  85,  70],\n",
       "        [ 86,  95,  94],\n",
       "        ...,\n",
       "        [ 79, 102,  96],\n",
       "        [ 77, 102,  97],\n",
       "        [ 77, 102,  98]],\n",
       "\n",
       "       [[ 82,  79,  87],\n",
       "        [ 63,  70,  59],\n",
       "        [ 82,  87,  88],\n",
       "        ...,\n",
       "        [ 84, 107, 101],\n",
       "        [ 81, 106, 102],\n",
       "        [ 81, 106, 103]]], dtype=uint8)"
      ]
     },
     "execution_count": 17,
     "metadata": {},
     "output_type": "execute_result"
    }
   ],
   "source": [
    "X[0]"
   ]
  },
  {
   "cell_type": "code",
   "execution_count": 18,
   "metadata": {},
   "outputs": [
    {
     "data": {
      "text/plain": [
       "593"
      ]
     },
     "execution_count": 18,
     "metadata": {},
     "output_type": "execute_result"
    }
   ],
   "source": [
    "len(X)"
   ]
  },
  {
   "cell_type": "code",
   "execution_count": 11,
   "metadata": {},
   "outputs": [
    {
     "data": {
      "text/plain": [
       "0"
      ]
     },
     "execution_count": 11,
     "metadata": {},
     "output_type": "execute_result"
    }
   ],
   "source": [
    "Y[100]"
   ]
  },
  {
   "cell_type": "code",
   "execution_count": 12,
   "metadata": {},
   "outputs": [
    {
     "data": {
      "text/plain": [
       "1"
      ]
     },
     "execution_count": 12,
     "metadata": {},
     "output_type": "execute_result"
    }
   ],
   "source": [
    "Y[200]"
   ]
  },
  {
   "cell_type": "code",
   "execution_count": 15,
   "metadata": {},
   "outputs": [
    {
     "data": {
      "text/plain": [
       "2"
      ]
     },
     "execution_count": 15,
     "metadata": {},
     "output_type": "execute_result"
    }
   ],
   "source": [
    "Y[400]"
   ]
  },
  {
   "cell_type": "code",
   "execution_count": 19,
   "metadata": {},
   "outputs": [
    {
     "data": {
      "text/plain": [
       "444"
      ]
     },
     "execution_count": 19,
     "metadata": {},
     "output_type": "execute_result"
    }
   ],
   "source": [
    "len(X_train)"
   ]
  },
  {
   "cell_type": "code",
   "execution_count": 20,
   "metadata": {},
   "outputs": [
    {
     "data": {
      "text/plain": [
       "149"
      ]
     },
     "execution_count": 20,
     "metadata": {},
     "output_type": "execute_result"
    }
   ],
   "source": [
    "len(X_test)"
   ]
  },
  {
   "cell_type": "code",
   "execution_count": 21,
   "metadata": {},
   "outputs": [
    {
     "data": {
      "text/plain": [
       "444"
      ]
     },
     "execution_count": 21,
     "metadata": {},
     "output_type": "execute_result"
    }
   ],
   "source": [
    "len(Y_train)"
   ]
  },
  {
   "cell_type": "code",
   "execution_count": 22,
   "metadata": {},
   "outputs": [
    {
     "data": {
      "text/plain": [
       "149"
      ]
     },
     "execution_count": 22,
     "metadata": {},
     "output_type": "execute_result"
    }
   ],
   "source": [
    "len(Y_test)"
   ]
  },
  {
   "cell_type": "code",
   "execution_count": 23,
   "metadata": {},
   "outputs": [
    {
     "data": {
      "text/plain": [
       "array([[[215, 194, 149],\n",
       "        [215, 198, 163],\n",
       "        [197, 183, 154],\n",
       "        ...,\n",
       "        [184, 173, 143],\n",
       "        [216, 203, 172],\n",
       "        [228, 216, 179]],\n",
       "\n",
       "       [[200, 187, 156],\n",
       "        [155, 146, 127],\n",
       "        [ 64,  60,  49],\n",
       "        ...,\n",
       "        [162, 155, 134],\n",
       "        [208, 197, 167],\n",
       "        [221, 210, 173]],\n",
       "\n",
       "       [[146, 137, 114],\n",
       "        [ 50,  44,  39],\n",
       "        [ 19,  19,  24],\n",
       "        ...,\n",
       "        [ 76,  73,  65],\n",
       "        [164, 155, 130],\n",
       "        [222, 211, 174]],\n",
       "\n",
       "       ...,\n",
       "\n",
       "       [[ 89,  85,  76],\n",
       "        [ 79,  77,  71],\n",
       "        [ 47,  47,  45],\n",
       "        ...,\n",
       "        [ 22,  18,  19],\n",
       "        [114, 102,  88],\n",
       "        [205, 188, 148]],\n",
       "\n",
       "       [[ 72,  68,  62],\n",
       "        [ 71,  69,  64],\n",
       "        [ 57,  56,  54],\n",
       "        ...,\n",
       "        [ 53,  51,  46],\n",
       "        [166, 152, 125],\n",
       "        [215, 199, 157]],\n",
       "\n",
       "       [[ 71,  67,  61],\n",
       "        [ 62,  60,  55],\n",
       "        [ 58,  57,  54],\n",
       "        ...,\n",
       "        [114, 110,  95],\n",
       "        [198, 185, 152],\n",
       "        [218, 201, 158]]], dtype=uint8)"
      ]
     },
     "execution_count": 23,
     "metadata": {},
     "output_type": "execute_result"
    }
   ],
   "source": [
    "X_train[100]"
   ]
  },
  {
   "cell_type": "code",
   "execution_count": 24,
   "metadata": {},
   "outputs": [
    {
     "data": {
      "text/plain": [
       "1"
      ]
     },
     "execution_count": 24,
     "metadata": {},
     "output_type": "execute_result"
    }
   ],
   "source": [
    "Y_train[100]"
   ]
  },
  {
   "cell_type": "code",
   "execution_count": 25,
   "metadata": {},
   "outputs": [
    {
     "data": {
      "text/plain": [
       "(444, 50, 50, 3)"
      ]
     },
     "execution_count": 25,
     "metadata": {},
     "output_type": "execute_result"
    }
   ],
   "source": [
    "X_train.shape"
   ]
  },
  {
   "cell_type": "code",
   "execution_count": 27,
   "metadata": {},
   "outputs": [
    {
     "data": {
      "text/plain": [
       "(50, 50, 3)"
      ]
     },
     "execution_count": 27,
     "metadata": {},
     "output_type": "execute_result"
    }
   ],
   "source": [
    "X_train.shape[1:]"
   ]
  },
  {
   "cell_type": "code",
   "execution_count": null,
   "metadata": {},
   "outputs": [],
   "source": []
  }
 ],
 "metadata": {
  "kernelspec": {
   "display_name": "Python 3",
   "language": "python",
   "name": "python3"
  },
  "language_info": {
   "codemirror_mode": {
    "name": "ipython",
    "version": 3
   },
   "file_extension": ".py",
   "mimetype": "text/x-python",
   "name": "python",
   "nbconvert_exporter": "python",
   "pygments_lexer": "ipython3",
   "version": "3.6.10"
  }
 },
 "nbformat": 4,
 "nbformat_minor": 2
}
